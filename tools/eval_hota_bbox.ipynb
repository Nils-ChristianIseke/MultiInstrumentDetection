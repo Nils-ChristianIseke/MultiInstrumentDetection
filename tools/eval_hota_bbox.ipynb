{
 "cells": [
  {
   "cell_type": "code",
   "execution_count": null,
   "metadata": {},
   "outputs": [],
   "source": [
    "import os\n",
    "import json\n",
    "import glob\n",
    "import torch\n",
    "import numpy as np\n",
    "from pathlib import Path\n",
    "from natsort import natsorted\n",
    "from pycocotools.coco import COCO\n",
    "import matplotlib.patches as patches\n",
    "from scipy.optimize import linear_sum_assignment\n",
    "\n",
    "import matplotlib.pyplot as plt\n",
    "%matplotlib inline\n",
    "\n",
    "from endo_sim_data import EndoSimData\n",
    "endo_data = EndoSimData()\n",
    "\n",
    "%load_ext autoreload\n",
    "%autoreload 2\n",
    "################################################\n",
    "# 1. Load raw data in the correct format\n",
    "# 2. Pre-process and prepare data for evaluation\n",
    "# 3. Metric computation\n",
    "#################################################"
   ]
  },
  {
   "cell_type": "code",
   "execution_count": null,
   "metadata": {},
   "outputs": [],
   "source": [
    "classes_to_eval = ['Nadelhalter', 'Nervhaken', 'Klappenschere', 'Atraum. Pinzette', 'Knotenschieber']\n",
    "valid_classes = ['nadelhalter', 'nervhaken', 'klappenschere', 'atraum. pinzette', 'knotenschieber']\n",
    "class_list = [cls.lower() if cls.lower() in valid_classes else None for cls in classes_to_eval]"
   ]
  },
  {
   "cell_type": "code",
   "execution_count": null,
   "metadata": {},
   "outputs": [],
   "source": [
    "def _assign_ids(classes_list):\n",
    "    ids = []\n",
    "    for classes_t in classes_list:\n",
    "        unique_classes_t = np.unique(classes_t)\n",
    "        ids_t = [None] * len(classes_t)\n",
    "        for class_ in unique_classes_t:\n",
    "            id_ctr = 1\n",
    "            for i, det in enumerate(classes_t):\n",
    "                if det == class_:\n",
    "                    id_ = (det * 100) + id_ctr\n",
    "                    ids_t[i] = id_\n",
    "                    id_ctr += 1\n",
    "\n",
    "        ids.append(np.asarray(ids_t))\n",
    "    return ids\n",
    "\n",
    "\n",
    "def _load_raw_file(json_labels):\n",
    "    num_timesteps = len(json_labels)\n",
    "    data_keys = ['gt_ids', 'gt_classes', 'gt_dets']\n",
    "    raw_data = {key: [None] * num_timesteps for key in data_keys}\n",
    "\n",
    "    raw_data['gt_classes'] = [elem['labels'].cpu().detach().numpy() for elem in json_labels] # convert each labels into a np array\n",
    "    raw_data['gt_ids'] = _assign_ids(raw_data['gt_classes'])\n",
    "    raw_data['gt_dets'] = [np.asarray(elem['boxes']) for elem in json_labels]\n",
    "    raw_data['num_timesteps'] = num_timesteps\n",
    "    return raw_data\n",
    "\n",
    "\n",
    "raw_gt_data = _load_raw_file(json_labels=json_gt_labels) # Give the GT labels read from json here\n",
    "raw_tracker_data = _load_raw_file(json_labels=json_pred_labels) # Give the predicted labels read from the json here\n",
    "raw_data = {**raw_tracker_data, **raw_gt_data}\n",
    "\n",
    "preproc_seq_data = endo_data.get_preprocessed_seq_data(raw_data=raw_data,\n",
    "                                                      cls='nadelhalter')"
   ]
  },
  {
   "cell_type": "code",
   "execution_count": null,
   "metadata": {},
   "outputs": [],
   "source": [
    "from hota import HOTA\n",
    "\n",
    "# Here you can also use the method in HOTA to average it over multiple classes\n",
    "# or compute it for each calss and then average it\n",
    "hota_metrics = HOTA()\n",
    "metrics = hota_metrics.eval_sequence(preproc_seq_data)\n",
    "print(metrics['HOTA'])"
   ]
  }
 ],
 "metadata": {
  "kernelspec": {
   "display_name": "Python [conda env:deeplearning-sandbox]",
   "language": "python",
   "name": "conda-env-deeplearning-sandbox-py"
  },
  "language_info": {
   "codemirror_mode": {
    "name": "ipython",
    "version": 3
   },
   "file_extension": ".py",
   "mimetype": "text/x-python",
   "name": "python",
   "nbconvert_exporter": "python",
   "pygments_lexer": "ipython3",
   "version": "3.7.6"
  }
 },
 "nbformat": 4,
 "nbformat_minor": 4
}
