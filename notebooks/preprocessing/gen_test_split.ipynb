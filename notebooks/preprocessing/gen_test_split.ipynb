{
 "cells": [
  {
   "cell_type": "markdown",
   "id": "42ec9a37",
   "metadata": {},
   "source": [
    "## Imports"
   ]
  },
  {
   "cell_type": "code",
   "execution_count": 1,
   "id": "3ac00b35",
   "metadata": {},
   "outputs": [],
   "source": [
    "import os\n",
    "import glob\n",
    "from natsort import natsorted"
   ]
  },
  {
   "cell_type": "markdown",
   "id": "ce6f862c",
   "metadata": {},
   "source": [
    "## Define Parameters"
   ]
  },
  {
   "cell_type": "code",
   "execution_count": 2,
   "id": "fc215788",
   "metadata": {},
   "outputs": [],
   "source": [
    "SURGERY_FOLDER = '11' # This number has to be 11, since it is the number we chose when preprocessing the test data\n",
    "DATA_ROOT = '/mnt/sds-hd/sd22a004/guest/data_preprocessed/data_testset'\n",
    "SPLIT_PATH = '/mnt/sds-hd/sd22a004/guest/data_preprocessed/splits/data_splitted_testset'"
   ]
  },
  {
   "cell_type": "markdown",
   "id": "d5b09aa1",
   "metadata": {},
   "source": [
    "## Defining functions"
   ]
  },
  {
   "cell_type": "code",
   "execution_count": 3,
   "id": "24662310",
   "metadata": {},
   "outputs": [],
   "source": [
    "def get_images_in_surgery_folder(data_root, surgery_folder):\n",
    "    \"\"\"\n",
    "    In a specific surgery dir like '2019_xx_xx_aa1111', it returns all the image_paths as a list\n",
    "    :param surgery_folder:\n",
    "    :return: indices, surgery_names\n",
    "    The surgery names are '2019_xx_xxxx' will be used to group the data so that all the images belonging\n",
    "    to one op remain in the same split created by sklearn\n",
    "    \"\"\"\n",
    "    indices, surgery_names = [], []\n",
    "    image_filepaths=[]\n",
    "    image_filepaths_l = natsorted(glob.glob(os.path.join(data_root, surgery_folder,'image_02','images', '*')))\n",
    "    image_filepaths_r = natsorted(glob.glob(os.path.join(data_root, surgery_folder,'image_03','images', '*')))\n",
    "    for a, b in zip(image_filepaths_l, image_filepaths_r):\n",
    "        image_filepaths.append(a)\n",
    "        image_filepaths.append(b)\n",
    "    # Prepare text file information\n",
    "    rel_path_name = os.path.join(surgery_folder)  # Folder name\n",
    "    frame_indices = [os.path.basename(os.path.splitext(path)[0]) for path in image_filepaths]\n",
    "    newline_batch = [' '.join((rel_path_name, frame_index)) for frame_index in frame_indices]\n",
    "    indices += newline_batch\n",
    "    # Just append surgery name along as the 'group' variable\n",
    "    surgery_names += [surgery_folder] * len(image_filepaths)\n",
    "   \n",
    "    return indices, surgery_names\n",
    "\n",
    "\n",
    "\n",
    "def append_lr_to_filenames(indices):\n",
    "    appended_indices = []\n",
    "    for i, line in enumerate(indices):\n",
    "        if i % 2 == 0:\n",
    "            index = ' '.join((line, 'l'))\n",
    "        else:\n",
    "            index = ' '.join((line, 'r'))\n",
    "        appended_indices.append(index)\n",
    "    return appended_indices"
   ]
  },
  {
   "cell_type": "markdown",
   "id": "c0842361",
   "metadata": {},
   "source": [
    "## Create list"
   ]
  },
  {
   "cell_type": "code",
   "execution_count": 4,
   "id": "effca8b3",
   "metadata": {},
   "outputs": [],
   "source": [
    "indices, surgery_names = get_images_in_surgery_folder(DATA_ROOT, SURGERY_FOLDER)\n",
    "filenames = append_lr_to_filenames(indices)"
   ]
  },
  {
   "cell_type": "markdown",
   "id": "3697a0c9",
   "metadata": {},
   "source": [
    "Create necessary directory structure. This will throw an error if the directory already exists, to prevent overwriting files.  \n",
    "If overwriting is desired set the `EXIST_OK` flag to `True`."
   ]
  },
  {
   "cell_type": "code",
   "execution_count": 5,
   "id": "23886d40",
   "metadata": {},
   "outputs": [
    {
     "name": "stdout",
     "output_type": "stream",
     "text": [
      "Done\n"
     ]
    }
   ],
   "source": [
    "# Create necessary directory structure. This will throw an error if the directory already exists, to prevent overwriting files.\n",
    "# If overwriting is desired set the EXIST_OK flag to True.\n",
    "EXIST_OK = False\n",
    "try:\n",
    "    os.makedirs\n",
    "    os.makedirs(os.path.join(SPLIT_PATH, 'test_cv_split_lr/'))\n",
    "    with open(os.path.join(SPLIT_PATH, 'test_cv_split_lr/test_file.txt'),'w') as fp:\n",
    "        for item in filenames:\n",
    "            fp.write(\"%s\\n\" % item)\n",
    "        print('Done')\n",
    "except FileExistsError:\n",
    "    print('The directory already exists. To allow overwriting existing files set the EXIST_OK flag to True.')"
   ]
  }
 ],
 "metadata": {
  "kernelspec": {
   "display_name": "Python 3.9.12 ('base')",
   "language": "python",
   "name": "python3"
  },
  "language_info": {
   "codemirror_mode": {
    "name": "ipython",
    "version": 3
   },
   "file_extension": ".py",
   "mimetype": "text/x-python",
   "name": "python",
   "nbconvert_exporter": "python",
   "pygments_lexer": "ipython3",
   "version": "3.9.12"
  },
  "vscode": {
   "interpreter": {
    "hash": "b5d2a9bcc12cb8e0ded7d4cccf7ed19a7d43bc44c58c4defb0b30557d1c4b731"
   }
  }
 },
 "nbformat": 4,
 "nbformat_minor": 5
}
