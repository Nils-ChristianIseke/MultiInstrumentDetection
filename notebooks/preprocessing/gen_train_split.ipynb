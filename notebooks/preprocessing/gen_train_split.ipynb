{
 "cells": [
  {
   "cell_type": "markdown",
   "id": "7cf3521c",
   "metadata": {},
   "source": [
    "## Defining arguments\n",
    "This notebook is only a convenience for calling the `gen_splits.py` script. The paths need to be adjusted, depending on the location this notebook is executed."
   ]
  },
  {
   "cell_type": "code",
   "execution_count": null,
   "id": "fee3382e",
   "metadata": {},
   "outputs": [],
   "source": [
    "DATAROOT = \"/mnt/sds-hd/sd22a004/guest/data_preprocessed/data_coco\"\n",
    "SPLITS_ROOT = \"/mnt/sds-hd/sd22a004/guest/data_preprocessed/splits/data_splitted\"\n",
    "NUM_FOLDS = 4"
   ]
  },
  {
   "cell_type": "markdown",
   "id": "ad81e956",
   "metadata": {},
   "source": [
    "## Generating the training and validation split files "
   ]
  },
  {
   "cell_type": "code",
   "execution_count": null,
   "id": "b426d57c",
   "metadata": {},
   "outputs": [],
   "source": [
    "command = f\"python gen_splits.py --dataroot {DATAROOT} --splits_root {SPLITS_ROOT} --splits_name test_cv_split --num_folds {NUM_FOLDS} --append_lr\"\n",
    "!{command}"
   ]
  }
 ],
 "metadata": {
  "kernelspec": {
   "display_name": "Python 3.9.12 ('base')",
   "language": "python",
   "name": "python3"
  },
  "language_info": {
   "codemirror_mode": {
    "name": "ipython",
    "version": 3
   },
   "file_extension": ".py",
   "mimetype": "text/x-python",
   "name": "python",
   "nbconvert_exporter": "python",
   "pygments_lexer": "ipython3",
   "version": "3.9.12"
  },
  "vscode": {
   "interpreter": {
    "hash": "b5d2a9bcc12cb8e0ded7d4cccf7ed19a7d43bc44c58c4defb0b30557d1c4b731"
   }
  }
 },
 "nbformat": 4,
 "nbformat_minor": 5
}
