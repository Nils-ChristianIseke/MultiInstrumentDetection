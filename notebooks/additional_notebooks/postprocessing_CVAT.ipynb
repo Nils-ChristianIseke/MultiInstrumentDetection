{
 "cells": [
  {
   "cell_type": "markdown",
   "metadata": {},
   "source": [
    "# Used to rename the file_name after annotation process in CVAT\n",
    "CVAT is adding some numbers to the beginnig of each file name. If you want to keep the naming conventions rename those."
   ]
  },
  {
   "cell_type": "code",
   "execution_count": 1,
   "metadata": {},
   "outputs": [],
   "source": [
    "from src.coco_truncate_file_names import coco_truncate_file_names"
   ]
  },
  {
   "cell_type": "code",
   "execution_count": 2,
   "metadata": {},
   "outputs": [],
   "source": [
    "\n",
    "import os"
   ]
  },
  {
   "cell_type": "code",
   "execution_count": 3,
   "metadata": {},
   "outputs": [],
   "source": [
    "number_of_chars_to_keep = 10"
   ]
  },
  {
   "cell_type": "code",
   "execution_count": 4,
   "metadata": {},
   "outputs": [],
   "source": [
    "path_to_labels = os.listdir(\"/home/nils/Downloads/pdsm/seperated\")"
   ]
  },
  {
   "cell_type": "code",
   "execution_count": 5,
   "metadata": {},
   "outputs": [],
   "source": [
    "path_to_labels_list = [os.path.join(\"/home/nils/Downloads/pdsm/seperated\", path ,\"annotations/instances_default.json\")  for path in path_to_labels]"
   ]
  },
  {
   "cell_type": "code",
   "execution_count": 9,
   "metadata": {},
   "outputs": [],
   "source": [
    "for path in path_to_labels_list:\n",
    "    coco_truncate_file_names(path,7,None)"
   ]
  }
 ],
 "metadata": {
  "interpreter": {
   "hash": "dcf4bbd51505e0e70e7e7f97e70384d65019a9ce7d746d0b8b59aa43ce68b6c8"
  },
  "kernelspec": {
   "display_name": "Python 3.9.12 ('PDSM')",
   "language": "python",
   "name": "python3"
  },
  "language_info": {
   "codemirror_mode": {
    "name": "ipython",
    "version": 3
   },
   "file_extension": ".py",
   "mimetype": "text/x-python",
   "name": "python",
   "nbconvert_exporter": "python",
   "pygments_lexer": "ipython3",
   "version": "3.10.4"
  },
  "orig_nbformat": 4
 },
 "nbformat": 4,
 "nbformat_minor": 2
}
