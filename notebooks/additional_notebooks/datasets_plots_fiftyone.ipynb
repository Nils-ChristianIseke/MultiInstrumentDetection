{
 "cells": [
  {
   "cell_type": "code",
   "execution_count": 8,
   "metadata": {},
   "outputs": [
    {
     "name": "stdout",
     "output_type": "stream",
     "text": [
      " 100% |█████████████████████| 0/0 [771.4us elapsed, ? remaining, ? samples/s] \n"
     ]
    }
   ],
   "source": [
    "import fiftyone as fo\n",
    "\n",
    "# A name for the dataset\n",
    "name = \"Stereo_Instrument_Detection_\"\n",
    "\n",
    "# The directory containing the dataset to import\n",
    "data_dir = \"/mnt/sds-stud/guest/data_preprocessed/data_coco_final_v2/images\"\n",
    "label_dir =\"/mnt/sds-stud/guest/data_preprocessed/data_coco_final_v2/annotations\"\n",
    "# The type of the dataset being imported\n",
    "dataset_type = fo.types.COCODetectionDataset  # for example\n",
    "\n",
    "dataset = fo.Dataset.from_dir(\n",
    "    data_path=dataset_dir,\n",
    "    labels_path=,\n",
    "    dataset_type=dataset_type,\n",
    "    name=name,\n",
    ")"
   ]
  },
  {
   "cell_type": "code",
   "execution_count": 3,
   "metadata": {},
   "outputs": [],
   "source": [
    "dataset.compute_metadata()\n"
   ]
  },
  {
   "cell_type": "code",
   "execution_count": 4,
   "metadata": {},
   "outputs": [
    {
     "data": {
      "text/html": [
       "\n",
       "        <iframe\n",
       "            width=\"100%\"\n",
       "            height=\"800\"\n",
       "            src=\"http://localhost:5151/?context=ipython&subscription=1b3cd78d-ba28-4d4d-ba4d-43f0756aad2c\"\n",
       "            frameborder=\"0\"\n",
       "            allowfullscreen\n",
       "            \n",
       "        ></iframe>\n",
       "        "
      ],
      "text/plain": [
       "<IPython.lib.display.IFrame at 0x7fab56db24a0>"
      ]
     },
     "metadata": {},
     "output_type": "display_data"
    }
   ],
   "source": [
    "import fiftyone as fo\n",
    "import fiftyone.zoo as foz\n",
    "from fiftyone import ViewField as F\n",
    "\n",
    "# Define some interesting plots\n",
    "plot1 = fo.NumericalHistogram(F(\"metadata.size_bytes\") / 1024, bins=50, xlabel=\"image size (KB)\")\n",
    "# plot2 = fo.NumericalHistogram(\"predictions.detections.confidence\", bins=50)\n",
    "plot3 = fo.CategoricalHistogram(\"ground_truth.detections.label\", order=\"frequency\")\n",
    "# plot4 = fo.CategoricalHistogram(\"predictions.detections.label\", order=\"frequency\")\n",
    "\n",
    "session = fo.launch_app(dataset)\n"
   ]
  },
  {
   "cell_type": "code",
   "execution_count": 5,
   "metadata": {},
   "outputs": [
    {
     "data": {
      "text/plain": []
     },
     "metadata": {},
     "output_type": "display_data"
    },
    {
     "data": {
      "text/plain": []
     },
     "metadata": {},
     "output_type": "display_data"
    },
    {
     "data": {
      "application/vnd.jupyter.widget-view+json": {
       "model_id": "5a24cc6849cc4ad3a778052599f24702",
       "version_major": 2,
       "version_minor": 0
      },
      "text/plain": [
       "FigureWidget({\n",
       "    'data': [{'customdata': array([], shape=(0, 2), dtype=float64),\n",
       "              'hovertemplat…"
      ]
     },
     "metadata": {},
     "output_type": "display_data"
    }
   ],
   "source": [
    "plot = fo.ViewGrid([plot1, plot3], init_view=dataset)\n",
    "plot.show(height=720)\n",
    "\n",
    "session.plots.attach(plot)"
   ]
  }
 ],
 "metadata": {
  "kernelspec": {
   "display_name": "Python 3.10.4 ('PDSM')",
   "language": "python",
   "name": "python3"
  },
  "language_info": {
   "codemirror_mode": {
    "name": "ipython",
    "version": 3
   },
   "file_extension": ".py",
   "mimetype": "text/x-python",
   "name": "python",
   "nbconvert_exporter": "python",
   "pygments_lexer": "ipython3",
   "version": "3.10.4"
  },
  "orig_nbformat": 4,
  "vscode": {
   "interpreter": {
    "hash": "dcf4bbd51505e0e70e7e7f97e70384d65019a9ce7d746d0b8b59aa43ce68b6c8"
   }
  }
 },
 "nbformat": 4,
 "nbformat_minor": 2
}
