{
 "cells": [
  {
   "cell_type": "code",
   "execution_count": 1,
   "metadata": {},
   "outputs": [],
   "source": [
    "import os\n",
    "import json\n",
    "source_path = \"\"\n",
    "paths_to_labels= sorted(os.listdir(source_path))"
   ]
  },
  {
   "cell_type": "code",
   "execution_count": 15,
   "metadata": {},
   "outputs": [],
   "source": [
    "for path in paths_to_labels:\n",
    "    for view in [\"instrument_labels_02\",\"instrument_labels_03\"]:\n",
    "        path_to_label = os.path.join(source_path,path,\"VID000_0\",view,\"instances_default.json\")\n",
    "        with open(path_to_label) as f:\n",
    "            data = json.load(f)\n",
    "        for annotation in data[\"annotations\"]:\n",
    "            annotation[\"attributes\"].pop(\"label_id\",None)\n",
    "        with open(path_to_label, 'w') as f:\n",
    "            json.dump(data, f)\n"
   ]
  }
 ],
 "metadata": {
  "interpreter": {
   "hash": "dcf4bbd51505e0e70e7e7f97e70384d65019a9ce7d746d0b8b59aa43ce68b6c8"
  },
  "kernelspec": {
   "display_name": "Python 3.10.4 ('PDSM')",
   "language": "python",
   "name": "python3"
  },
  "language_info": {
   "codemirror_mode": {
    "name": "ipython",
    "version": 3
   },
   "file_extension": ".py",
   "mimetype": "text/x-python",
   "name": "python",
   "nbconvert_exporter": "python",
   "pygments_lexer": "ipython3",
   "version": "3.10.4"
  },
  "orig_nbformat": 4
 },
 "nbformat": 4,
 "nbformat_minor": 2
}
