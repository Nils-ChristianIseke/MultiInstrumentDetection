{
 "cells": [
  {
   "cell_type": "code",
   "execution_count": 1,
   "metadata": {},
   "outputs": [],
   "source": [
    "from src.coco_to_labelme import coco_to_labelme\n",
    "import os"
   ]
  },
  {
   "cell_type": "code",
   "execution_count": 2,
   "metadata": {},
   "outputs": [],
   "source": [
    "path_to_labels = os.listdir(\"/home/nils/Downloads/pdsm/labelme\")"
   ]
  },
  {
   "cell_type": "code",
   "execution_count": 3,
   "metadata": {},
   "outputs": [],
   "source": [
    "path_to_coco_labels= [os.path.join(\"/home/nils/Downloads/pdsm/labelme\", path ,\"annotations/instances_default.json\")  for path in path_to_labels]\n"
   ]
  },
  {
   "cell_type": "code",
   "execution_count": 4,
   "metadata": {},
   "outputs": [
    {
     "data": {
      "text/plain": [
       "['/home/nils/Downloads/pdsm/labelme/09_03/annotations/instances_default.json',\n",
       " '/home/nils/Downloads/pdsm/labelme/10_03/annotations/instances_default.json',\n",
       " '/home/nils/Downloads/pdsm/labelme/01_02/annotations/instances_default.json',\n",
       " '/home/nils/Downloads/pdsm/labelme/04_02/annotations/instances_default.json',\n",
       " '/home/nils/Downloads/pdsm/labelme/05_02/annotations/instances_default.json',\n",
       " '/home/nils/Downloads/pdsm/labelme/02_03/annotations/instances_default.json',\n",
       " '/home/nils/Downloads/pdsm/labelme/03_02/annotations/instances_default.json',\n",
       " '/home/nils/Downloads/pdsm/labelme/07_03/annotations/instances_default.json',\n",
       " '/home/nils/Downloads/pdsm/labelme/08_02/annotations/instances_default.json',\n",
       " '/home/nils/Downloads/pdsm/labelme/07_02/annotations/instances_default.json',\n",
       " '/home/nils/Downloads/pdsm/labelme/10_02/annotations/instances_default.json',\n",
       " '/home/nils/Downloads/pdsm/labelme/09_02/annotations/instances_default.json',\n",
       " '/home/nils/Downloads/pdsm/labelme/03_03/annotations/instances_default.json',\n",
       " '/home/nils/Downloads/pdsm/labelme/06_02/annotations/instances_default.json',\n",
       " '/home/nils/Downloads/pdsm/labelme/06_03/annotations/instances_default.json',\n",
       " '/home/nils/Downloads/pdsm/labelme/04_03/annotations/instances_default.json',\n",
       " '/home/nils/Downloads/pdsm/labelme/01_03/annotations/instances_default.json',\n",
       " '/home/nils/Downloads/pdsm/labelme/05_03/annotations/instances_default.json',\n",
       " '/home/nils/Downloads/pdsm/labelme/02_02/annotations/instances_default.json',\n",
       " '/home/nils/Downloads/pdsm/labelme/08_03/annotations/instances_default.json']"
      ]
     },
     "execution_count": 4,
     "metadata": {},
     "output_type": "execute_result"
    }
   ],
   "source": [
    "path_to_coco_labels"
   ]
  },
  {
   "cell_type": "code",
   "execution_count": 5,
   "metadata": {},
   "outputs": [],
   "source": [
    "for path in path_to_coco_labels:\n",
    "    coco_to_labelme(path,\"/home/nils/Downloads/pdsm/labelme\")"
   ]
  }
 ],
 "metadata": {
  "kernelspec": {
   "display_name": "Python 3.10.4 ('PDSM')",
   "language": "python",
   "name": "python3"
  },
  "language_info": {
   "codemirror_mode": {
    "name": "ipython",
    "version": 3
   },
   "file_extension": ".py",
   "mimetype": "text/x-python",
   "name": "python",
   "nbconvert_exporter": "python",
   "pygments_lexer": "ipython3",
   "version": "3.10.4"
  },
  "orig_nbformat": 4,
  "vscode": {
   "interpreter": {
    "hash": "dcf4bbd51505e0e70e7e7f97e70384d65019a9ce7d746d0b8b59aa43ce68b6c8"
   }
  }
 },
 "nbformat": 4,
 "nbformat_minor": 2
}
