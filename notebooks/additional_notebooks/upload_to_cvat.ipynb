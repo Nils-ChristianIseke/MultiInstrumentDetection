{
 "cells": [
  {
   "cell_type": "markdown",
   "metadata": {},
   "source": [
    "Ihr müsst nur die Pfade zu euren Videos in der Liste  list_of_path_to_videos, und eueren Nutzernamen und Passwort für CVAT eintragen. Dann sollte es durchlaufen. Falls etwas nicht klappt bitte melden.\n"
   ]
  },
  {
   "cell_type": "code",
   "execution_count": null,
   "metadata": {},
   "outputs": [],
   "source": [
    "from scripts.upload_to_cvat import upload_to_cvat_local\n",
    "import os"
   ]
  },
  {
   "cell_type": "code",
   "execution_count": null,
   "metadata": {},
   "outputs": [],
   "source": [
    "username_CVAT = \"\"\n",
    "password_CVAT = \"\""
   ]
  },
  {
   "cell_type": "code",
   "execution_count": null,
   "metadata": {},
   "outputs": [],
   "source": [
    "path_to_data_root =\"\"       # path to the root directory of the data\n",
    "subdir_labels=\"\"            # relative path from path_to_data_root to the labels\n",
    "annotations_filename=\"\"     # name of the COCO file  e.g.: *.json\n",
    "subdir_images=\"\"            # relative path from path_to_data_root to the images"
   ]
  },
  {
   "cell_type": "code",
   "execution_count": null,
   "metadata": {},
   "outputs": [],
   "source": [
    "label_field =\"\"             # e.g. \"ground truth\"\n",
    "annotation_key=\"\"           # Annotation Key\n",
    "project_name=\"\"             # e.g. \"PDSM\" ensures that in CVAT all uploaded Tasks are assigned to the same project"
   ]
  },
  {
   "cell_type": "code",
   "execution_count": null,
   "metadata": {},
   "outputs": [],
   "source": [
    "\n",
    "# Add the path to the root directory of the data\n",
    "# Assumes the following directory structure\n",
    "# |--path_to_data_root\n",
    "#       |--subdir_labesl \n",
    "#                |--annotations_filename\n",
    "#       |--subdir_images\n",
    "# Change for loop if needed    \n",
    "\n",
    "for path in sorted(os.listdir(path_to_data_root)):\n",
    "        path_to_labels = os.path.join(path_to_data_root,path,subdir_labels,annotations_filename)\n",
    "        path_to_images = os.path.join(path_to_data_root,path,subdir_images)\n",
    "        upload_to_cvat_local(path_to_images=path_to_images,path_to_labels =path_to_labels,anno_key=annotation_key,username_cvat =username_CVAT,password_cvat = password_CVAT,label_field =\"ground_truth\",project_name=\"PDSM_R\")\n"
   ]
  }
 ],
 "metadata": {
  "interpreter": {
   "hash": "dcf4bbd51505e0e70e7e7f97e70384d65019a9ce7d746d0b8b59aa43ce68b6c8"
  },
  "kernelspec": {
   "display_name": "Python 3.10.4 ('PDSM')",
   "language": "python",
   "name": "python3"
  },
  "language_info": {
   "codemirror_mode": {
    "name": "ipython",
    "version": 3
   },
   "file_extension": ".py",
   "mimetype": "text/x-python",
   "name": "python",
   "nbconvert_exporter": "python",
   "pygments_lexer": "ipython3",
   "version": "3.10.4"
  },
  "orig_nbformat": 4
 },
 "nbformat": 4,
 "nbformat_minor": 2
}
