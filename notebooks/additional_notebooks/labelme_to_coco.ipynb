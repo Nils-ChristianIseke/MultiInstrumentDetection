{
 "cells": [
  {
   "cell_type": "code",
   "execution_count": null,
   "metadata": {},
   "outputs": [],
   "source": [
    "!pip install -U labelme2coco"
   ]
  },
  {
   "cell_type": "code",
   "execution_count": null,
   "metadata": {},
   "outputs": [],
   "source": [
    "import os\n",
    "import json\n",
    "from pathlib import Path\n",
    "source_path = \"/mnt/sds-stud/guest/dataset/instrument_detection_dataset_raw\"\n",
    "\n",
    "\n",
    "directory_list = os.listdir(source_path)\n",
    "directory_list.sort()\n",
    "\n",
    "\n",
    "for dir in directory_list:\n",
    "    print(dir)\n",
    "    data_path = os.path.join(source_path,dir)\n",
    "    subdir = os.listdir(data_path)[0]\n",
    "    data_image02_path = os.path.join(data_path,subdir,\"image02\")\n",
    "    data_image03_path = os.path.join(data_path,subdir,\"image03\")\n",
    "    data_images_path_list = [data_image02_path,data_image03_path]\n",
    "\n",
    "    data_label_image02_path = os.path.join(data_path,subdir,\"instrument_labels_02\")\n",
    "    data_label_image03_path = os.path.join(data_path,subdir,\"instrument_labels_03\")\n",
    "    data_label_path_list = [data_label_image02_path, data_label_image03_path]\n",
    "    destination_sourcepath = \"/mnt/sds-stud/guest/data_preprocessed/data_labelme\"\n",
    " \n",
    "    for path in data_label_path_list:\n",
    "        list_of_files = os.listdir(path)\n",
    "        for file in list_of_files:\n",
    "            video_number = path[65:67]\n",
    "            image_number =path[-2:]\n",
    "            \n",
    "            \n",
    "            path_to_label = os.path.join(path,file)\n",
    "            with open(path_to_label) as f:\n",
    "                data = json.load(f)\n",
    "                data['imagePath'] = data['imagePath'][-10:]\n",
    "                # data['imagePath']=data['imagePath'].replace('..\\\\image_' + image_number.zfill(1) +'\\\\', '')\n",
    "                path_to_destination = os.path.join(destination_sourcepath,\"video_\"+video_number.zfill(5),image_number.zfill(1))\n",
    "                Path(path_to_destination).mkdir(parents=True, exist_ok=True)\n",
    "                path_to_file = os.path.join(path_to_destination,file)\n",
    "            with open(path_to_file, 'w') as f:\n",
    "                    json.dump(data, f)\n"
   ]
  },
  {
   "cell_type": "code",
   "execution_count": null,
   "metadata": {},
   "outputs": [],
   "source": [
    "import shutil\n",
    "for dir in directory_list:\n",
    "    \n",
    "    data_path = os.path.join(source_path,dir)\n",
    "    subdir = os.listdir(data_path)[0]\n",
    "    data_image02_path = os.path.join(data_path,subdir,\"image_02\")\n",
    "    data_image03_path = os.path.join(data_path,subdir,\"image_03\")\n",
    "    data_images_path_list = [data_image02_path,data_image03_path]\n",
    "    \n",
    "    for path in data_images_path_list:\n",
    "        for file_name in os.listdir(data_image02_path):\n",
    "            source = os.path.join(path,file_name)\n",
    "            video_number = path[65:67]\n",
    "            image_number =path[-2:]\n",
    "            \n",
    "            \n",
    "            destination = os.path.join(destination_sourcepath,\"video_\"+video_number.zfill(5),\"image_\"+image_number.zfill(1))\n",
    "            Path(destination).mkdir(parents=True, exist_ok=True)\n",
    "            \n",
    "        \n",
    "            if os.path.isfile(source):\n",
    "                shutil.copy(source, destination)\n",
    "                print(\"copied\")"
   ]
  },
  {
   "cell_type": "code",
   "execution_count": null,
   "metadata": {},
   "outputs": [],
   "source": [
    "\n",
    "labelme_dir =\"/mnt/sds-stud/guest/data_preprocessed/data_labelme\"\n",
    "list_of_subdir = os.listdir(labelme_dir)\n",
    "coco_dir =\"/mnt/sds-stud/guest/data_preprocessed/data_coco\"\n",
    "list_of_cameras = [\"02\", \"03\"]\n",
    "\n",
    "for dir in list_of_subdir:\n",
    "    for camera in list_of_cameras:\n",
    "        labelme_labels_dir = os.path.join(labelme_dir,dir,\"labels_\",camera)\n",
    "        coco_labels_dir = os.path.join(labelme_dir,dir,camera,\"annotations\")\n",
    "        labelme2coco.convert(labelme_labels_dir ,coco_labels_dir, train_split_rate = 1)\n"
   ]
  },
  {
   "cell_type": "code",
   "execution_count": null,
   "metadata": {},
   "outputs": [],
   "source": [
    "\n",
    "\n",
    "import shutil\n",
    "\n",
    "import labelme2coco\n",
    "\n",
    "source_folder_images = \"/mnt/sds-stud/guest/dataset/instrument_detection_dataset_raw/aicm02/VID000_0/image_03\"\n",
    "destination_folder_images = \"/home/nils/Documents/DS_Praktikum/test/\"\n",
    "labelme_dir =\"/home/nils/Documents/DS_Praktikum/aicm02/VID000_0/instrument_labels_03/\"\n",
    "labelme_dest_dir =\"/home/nils/Documents/DS_Praktikum/test/\"\n",
    "export_dir = \"/mnt/sds-stud/guest/data_coco/02/image03\"\n",
    "\n",
    "\n",
    "\n",
    "Path(destination_folder_images).mkdir(parents=True, exist_ok=True)\n",
    "Path(labelme_dir).mkdir(parents=True, exist_ok=True)\n",
    "\n",
    "for file_name in os.listdir(source_folder_images):\n",
    "    source = source_folder_images + file_name\n",
    "    destination = destination_folder_images + file_name\n",
    "    if os.path.isfile(source):\n",
    "        shutil.copy(source, destination)\n",
    "\n",
    "\n",
    "\n",
    "for file in os.listdir(labelme_dir):\n",
    "    with open(labelme_dir+file) as f:\n",
    "        data = json.load(f)\n",
    "    data['imagePath']=data['imagePath'].replace('..\\\\image_03\\\\', '')\n",
    "    with open(labelme_dest_dir+file, 'w') as f:\n",
    "        json.dump(data, f)\n",
    "\n",
    "train_split_rate = 1\n",
    "\n",
    "labelme2coco.convert(labelme_dest_dir , export_dir, train_split_rate)\n"
   ]
  }
 ],
 "metadata": {
  "interpreter": {
   "hash": "916dbcbb3f70747c44a77c7bcd40155683ae19c65e1c03b4aa3499c5328201f1"
  },
  "kernelspec": {
   "display_name": "Python 3.8.10 64-bit",
   "language": "python",
   "name": "python3"
  },
  "language_info": {
   "codemirror_mode": {
    "name": "ipython",
    "version": 3
   },
   "file_extension": ".py",
   "mimetype": "text/x-python",
   "name": "python",
   "nbconvert_exporter": "python",
   "pygments_lexer": "ipython3",
   "version": "3.8.10"
  },
  "orig_nbformat": 4
 },
 "nbformat": 4,
 "nbformat_minor": 2
}
