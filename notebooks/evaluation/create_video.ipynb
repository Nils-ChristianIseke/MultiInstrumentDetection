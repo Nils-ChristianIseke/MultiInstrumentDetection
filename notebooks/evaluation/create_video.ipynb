{
 "cells": [
  {
   "cell_type": "markdown",
   "id": "2193bade",
   "metadata": {},
   "source": [
    "# Script for showing predictions"
   ]
  },
  {
   "cell_type": "markdown",
   "id": "3535a31e",
   "metadata": {},
   "source": [
    "## Imports"
   ]
  },
  {
   "cell_type": "code",
   "execution_count": 2,
   "id": "cd516b1e",
   "metadata": {
    "tags": []
   },
   "outputs": [],
   "source": [
    "#pip install opencv-python"
   ]
  },
  {
   "cell_type": "code",
   "execution_count": 32,
   "id": "08be6a2a",
   "metadata": {},
   "outputs": [],
   "source": [
    "import os\n",
    "from shutil import rmtree\n",
    "import numpy as np\n",
    "import matplotlib.pyplot as plt\n",
    "\n",
    "import json\n",
    "import cv2\n",
    "import matplotlib.patches as patches\n",
    "import albumentations as alb\n",
    "\n",
    "import glob\n",
    "from natsort import natsorted\n",
    "import cv2"
   ]
  },
  {
   "cell_type": "markdown",
   "id": "ed97e6c5",
   "metadata": {},
   "source": [
    "## Loading predictions from file"
   ]
  },
  {
   "cell_type": "code",
   "execution_count": 37,
   "id": "a316f040",
   "metadata": {},
   "outputs": [],
   "source": [
    "PREDICTED_IMAGES_PATH = \"/mnt/sds-hd/sd22a004/guest/object_detection/tmp_images/\"\n",
    "DATA_PATH = \"/mnt/sds-hd/sd22a004/guest/data_preprocessed/data_testset/\"\n",
    "PREDICTIONS_PATH = \"/mnt/sds-hd/sd22a004/guest/predictions/\"\n",
    "\n",
    "VIDEO_PATH = \"/mnt/sds-hd/sd22a004/guest/object_detection\"\n",
    "VIDEO_NAME = \"video_mono_left\"\n",
    "FPS = 20\n",
    "SIDE_NUM = {'l': '02', 'r': '03'}\n",
    "\n",
    "f = open(os.path.join(PREDICTIONS_PATH, 'predictions_mono_100epochs_test.json'), 'r')\n",
    "json_decode = json.load(f)\n",
    "\n",
    "filenames = json_decode['filenames']\n",
    "predictions = json_decode['predictions']"
   ]
  },
  {
   "cell_type": "markdown",
   "id": "afd88c73",
   "metadata": {},
   "source": [
    "## Define helper functions"
   ]
  },
  {
   "cell_type": "code",
   "execution_count": 38,
   "id": "7a8096e9",
   "metadata": {},
   "outputs": [],
   "source": [
    "def extract_info(index):\n",
    "    file_args = filenames[idx].split()\n",
    "    annos_pred = predictions[idx]\n",
    "    return file_args, annos_pred\n",
    "\n",
    "def load_image(file_args):\n",
    "    image_path = os.path.join(DATA_PATH, file_args[0], f'image_{SIDE_NUM[file_args[2]]}', 'images', file_args[1] + '.png')\n",
    "    img = cv2.imread(image_path)\n",
    "    return img\n",
    "\n",
    "def resize_boxes(original_image, annos_pred):\n",
    "    # Calculate Bounding boxes back to original size\n",
    "    original_height, original_width, channels = original_image.shape\n",
    "    img_small = cv2.resize(original_image, (256, 256))\n",
    "\n",
    "    aug = alb.Compose([alb.Resize(height=original_height, width=original_width)], bbox_params = alb.BboxParams(format = 'pascal_voc', label_fields = [\"class_labels\"]))\n",
    "\n",
    "    augmented_pred = aug(image=np.asarray(img_small), bboxes=annos_pred['boxes'], class_labels=annos_pred['labels'])\n",
    "    annos_pred = {'boxes': augmented_pred['bboxes'], 'labels': augmented_pred['class_labels']}\n",
    "    \n",
    "    return annos_pred"
   ]
  },
  {
   "cell_type": "markdown",
   "id": "19244897",
   "metadata": {},
   "source": [
    "## Create images"
   ]
  },
  {
   "cell_type": "code",
   "execution_count": null,
   "id": "43b5325b",
   "metadata": {
    "scrolled": false
   },
   "outputs": [],
   "source": [
    "COLORS = ['red', 'blue', 'green', 'yellow', 'magenta', 'cyan']\n",
    "\n",
    "if not os.path.exists(PREDICTED_IMAGES_PATH):\n",
    "    os.mkdir(PREDICTED_IMAGES_PATH)\n",
    "\n",
    "for idx in range(0, len(filenames)):\n",
    "    file_args, annos_pred = extract_info(idx)\n",
    "    print(f\"\\rProgress: {idx+1}/{len(filenames)}\", end=\"\")\n",
    "    img = load_image(file_args)\n",
    "    annos_pred = resize_boxes(img, annos_pred)\n",
    "    \n",
    "    fig = plt.figure(figsize=(30, 15))\n",
    "    ax = plt.gca()\n",
    "    \n",
    "    # Show image with predictions\n",
    "    for box, label in zip(annos_pred['boxes'], annos_pred['labels']):\n",
    "        bb = patches.Rectangle((box[0], box[1]), box[2] - box[0], box[3] - box[1], linewidth=2, edgecolor=COLORS[int(label)], facecolor=\"none\")\n",
    "        ax.add_patch(bb)\n",
    "        plt.text(box[0], box[1], int(label), fontsize=15, color=COLORS[int(label)])   \n",
    "        ax.add_patch(bb)\n",
    "\n",
    "    ax.imshow(img)\n",
    "    plt.axis('off')\n",
    "    fig.savefig(os.path.join(PREDICTED_IMAGES_PATH, f'{idx:04d}.jpg'), bbox_inches='tight', dpi=150)\n",
    "    plt.close(fig)"
   ]
  },
  {
   "cell_type": "markdown",
   "id": "7bfb0465",
   "metadata": {},
   "source": [
    "## Create video"
   ]
  },
  {
   "cell_type": "code",
   "execution_count": null,
   "id": "8db4cd43",
   "metadata": {},
   "outputs": [],
   "source": [
    "img_array = []\n",
    "i = 0\n",
    "filenames = natsorted((glob.glob(os.path.join(PREDICTED_IMAGES_PATH, '*.jpg'))))\n",
    "\n",
    "for idx, filename in enumerate(filenames):\n",
    "    if (idx % 2) == 0:\n",
    "        img = cv2.imread(filename)\n",
    "        height, width, layers = img.shape\n",
    "        size = (width,height)\n",
    "        img_array.append(img)\n",
    "\n",
    "out = cv2.VideoWriter(os.path.join(VIDEO_PATH, VIDEO_NAME + '.avi'), cv2.VideoWriter_fourcc(*'DIVX'), FPS, size)\n",
    "\n",
    "for i in range(len(img_array)):\n",
    "    out.write(img_array[i])\n",
    "out.release()\n",
    "\n",
    "rmtree(PREDICTED_IMAGES_PATH)"
   ]
  }
 ],
 "metadata": {
  "kernelspec": {
   "display_name": "Python 3.9.12 ('base')",
   "language": "python",
   "name": "python3"
  },
  "language_info": {
   "codemirror_mode": {
    "name": "ipython",
    "version": 3
   },
   "file_extension": ".py",
   "mimetype": "text/x-python",
   "name": "python",
   "nbconvert_exporter": "python",
   "pygments_lexer": "ipython3",
   "version": "3.9.12"
  },
  "vscode": {
   "interpreter": {
    "hash": "b5d2a9bcc12cb8e0ded7d4cccf7ed19a7d43bc44c58c4defb0b30557d1c4b731"
   }
  }
 },
 "nbformat": 4,
 "nbformat_minor": 5
}
